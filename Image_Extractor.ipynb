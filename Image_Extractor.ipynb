{
  "nbformat": 4,
  "nbformat_minor": 0,
  "metadata": {
    "colab": {
      "provenance": [],
      "authorship_tag": "ABX9TyN61SdnqbbeDvxs6vqq38Xb",
      "include_colab_link": true
    },
    "kernelspec": {
      "name": "python3",
      "display_name": "Python 3"
    },
    "language_info": {
      "name": "python"
    }
  },
  "cells": [
    {
      "cell_type": "markdown",
      "metadata": {
        "id": "view-in-github",
        "colab_type": "text"
      },
      "source": [
        "<a href=\"https://colab.research.google.com/github/markcastorm/Simple-Image-Extractor-using-python/blob/main/Image_Extractor.ipynb\" target=\"_parent\"><img src=\"https://colab.research.google.com/assets/colab-badge.svg\" alt=\"Open In Colab\"/></a>"
      ]
    },
    {
      "cell_type": "code",
      "execution_count": null,
      "metadata": {
        "id": "IRO6ui0fu6sV"
      },
      "outputs": [],
      "source": [
        "# Final results though doesent acount for duplicates\n",
        "import os\n",
        "import shutil\n",
        "import pandas as pd\n",
        "\n",
        "def extract_images(source_dir, destination_dir, image_names, num_images):\n",
        "\n",
        "    # destination directory if it doesn't exist\n",
        "    if not os.path.exists(destination_dir):\n",
        "        os.makedirs(destination_dir)\n",
        "\n",
        "    # Lists to store names of images that have been extracted\n",
        "    extracted_images = []\n",
        "\n",
        "    # Iterate through the source directory and its subdirectories\n",
        "    extracted_count = 0\n",
        "    for root, dirs, files in os.walk(source_dir):\n",
        "        for image_name in image_names:\n",
        "            source_path = os.path.join(root, image_name)\n",
        "            destination_path = os.path.join(destination_dir, image_name)\n",
        "\n",
        "            try:\n",
        "                # Check if the image file exists in the current subdirectory\n",
        "                if os.path.exists(source_path):\n",
        "                    # Copy the image to the destination directory\n",
        "                    shutil.copyfile(source_path, destination_path)\n",
        "                    extracted_count += 1\n",
        "                    extracted_images.append(image_name)\n",
        "\n",
        "                    # Break if the specified number of images has been reached\n",
        "                    if extracted_count == num_images:\n",
        "                        break\n",
        "            except Exception as e:\n",
        "                print(f\"Error extracting {image_name}: {e}\")\n",
        "\n",
        "    print(f\"{extracted_count} images extracted to {destination_dir}\")\n",
        "\n",
        "    # Now lets get the list of files in the destination directory\n",
        "    files_in_destination = [file for file in os.listdir(destination_dir) if os.path.isfile(os.path.join(destination_dir, file))]\n",
        "\n",
        "    # Extract names of images that were not found during the search\n",
        "    not_found_images = [name for name in image_names if name not in extracted_images and name not in files_in_destination]\n",
        "\n",
        "    # Ensure both lists have the same length by padding the shorter one\n",
        "    max_length = max(len(extracted_images), len(not_found_images))\n",
        "    extracted_images += [''] * (max_length - len(extracted_images))\n",
        "    not_found_images += [''] * (max_length - len(not_found_images))\n",
        "\n",
        "    # Save names of extracted and not found images to a new CSV file\n",
        "    extraction_results_df = pd.DataFrame({\n",
        "        'extracted_images': extracted_images,\n",
        "        'not_found_images': not_found_images\n",
        "    })\n",
        "\n",
        "    not_extracted_csv_path = \"C:/Users/casto/OneDrive/Pictures/validation.csv\"\n",
        "    extraction_results_df.to_csv(not_extracted_csv_path, index=False)\n",
        "    print(f\"Extraction results saved to {not_extracted_csv_path}\")\n",
        "\n",
        "\n",
        "source_directory = r\"C:\\Users\\casto\\OneDrive\\Pictures\\Screenshots\"\n",
        "destination_directory = r\"C:\\Users\\casto\\OneDrive\\Pictures\"\n",
        "\n",
        "# Read image names from CSV\n",
        "csv_path = \"C:/Users/casto/OneDrive/Pictures/extraction.csv\"\n",
        "df = pd.read_csv(csv_path)\n",
        "image_names_to_extract = df['images'].tolist()\n",
        "\n",
        "number_of_images_to_extract = 3000\n",
        "\n",
        "extract_images(source_directory, destination_directory, image_names_to_extract, number_of_images_to_extract)\n"
      ]
    }
  ]
}